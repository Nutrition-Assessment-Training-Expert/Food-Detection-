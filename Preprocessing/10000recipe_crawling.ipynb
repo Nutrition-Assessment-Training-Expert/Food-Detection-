{
 "cells": [
  {
   "cell_type": "code",
   "execution_count": 1,
   "metadata": {
    "ExecuteTime": {
     "end_time": "2020-10-22T01:04:29.530518Z",
     "start_time": "2020-10-22T01:04:28.749767Z"
    }
   },
   "outputs": [],
   "source": [
    "from selenium import webdriver\n",
    "import pandas as pd\n",
    "import numpy as np\n",
    "from selenium.webdriver.common.keys import Keys\n",
    "from selenium.common.exceptions import ElementNotInteractableException, ElementClickInterceptedException, NoSuchElementException\n",
    "import time\n",
    "from bs4 import BeautifulSoup\n",
    "from konlpy.tag import Okt\n",
    "import re\n",
    "from urllib.request import urlopen, urlretrieve\n",
    "import os"
   ]
  },
  {
   "cell_type": "code",
   "execution_count": 2,
   "metadata": {
    "ExecuteTime": {
     "end_time": "2020-10-22T01:04:29.536467Z",
     "start_time": "2020-10-22T01:04:29.532483Z"
    }
   },
   "outputs": [],
   "source": [
    "#셀레니움 크롬 옵션\n",
    "options = webdriver.ChromeOptions()\n",
    "# options.add_argument('headless')      # 브라우저를 열 수 있음 - headless는 안연다는 것.\n",
    "options.add_argument('--no-sandbox')\n",
    "options.add_argument('--disable-dev-shm-usage')\n",
    "options.add_argument('disable-gpu')\n",
    "options.add_argument('lang=ko_KR')\n",
    "options.add_argument(\"--mute-audio\")"
   ]
  },
  {
   "cell_type": "code",
   "execution_count": 3,
   "metadata": {
    "ExecuteTime": {
     "end_time": "2020-10-22T01:04:33.039947Z",
     "start_time": "2020-10-22T01:04:29.890405Z"
    },
    "code_folding": []
   },
   "outputs": [],
   "source": [
    "# driver = webdriver.Chrome('./chromedriver.exe', options=options)"
   ]
  },
  {
   "cell_type": "code",
   "execution_count": null,
   "metadata": {
    "ExecuteTime": {
     "end_time": "2020-10-21T10:03:08.211391Z",
     "start_time": "2020-10-21T08:53:20.626412Z"
    },
    "code_folding": []
   },
   "outputs": [],
   "source": [
    "\"\"\"\n",
    "df = pd.DataFrame()\n",
    "\n",
    "for i in range(5):\n",
    "    #만개의 레시피 분류 들어가기\n",
    "    driver.get('https://www.10000recipe.com/recipe/list.html')\n",
    "\n",
    "    # 대분류 5가지\n",
    "    class_5 = driver.find_elements_by_class_name('cate_list')\n",
    "\n",
    "    # 중분류 5가지\n",
    "    theme_5 = class_5[4].find_elements_by_tag_name('a')\n",
    "    theme_5_title = theme_5[i].text.replace('/', ',')\n",
    "    if not os.path.exists(f\"./recipes/{theme_5_title}\"):\n",
    "        os.mkdir(f\"./recipes/{theme_5_title}\")\n",
    "    \n",
    "    theme_5[i].click()\n",
    "    time.sleep(0.5)\n",
    "    mid_page = driver.current_url\n",
    "    try:\n",
    "        for j in range(13):\n",
    "            driver.get(mid_page)\n",
    "            # 소분류\n",
    "            theme_title_list = driver.find_elements_by_class_name('theme_list > a')\n",
    "            # 테마 타이틀\n",
    "            # theme_title[i].text.split('\\n')[1]\n",
    "            theme_title = theme_title_list[j].text.split('\\n')[1]\n",
    "            if not os.path.exists(f\"./recipes/{theme_5_title}/{theme_title}\"):\n",
    "                os.mkdir(f\"./recipes/{theme_5_title}/{theme_title}\")\n",
    "\n",
    "            theme_title_list[j].click()\n",
    "            time.sleep(0.5)\n",
    "            #배추볶음밥 있는곳 들어왔음\n",
    "            little_page = driver.current_url\n",
    "\n",
    "            page = little_page + '&page='\n",
    "            try:\n",
    "                for p in range(1, 9):\n",
    "                    try:\n",
    "                        for k in range(12):\n",
    "                            driver.get(page+str(p))\n",
    "                            time.sleep(0.5)\n",
    "                            recipes = driver.find_elements_by_class_name('common_sp_thumb')\n",
    "                            recipes[k].click()\n",
    "                            time.sleep(0.5)\n",
    "                            driver.find_element_by_css_selector('body').send_keys(Keys.RETURN)\n",
    "                            time.sleep(0.05)\n",
    "                            # 레시피 제목\n",
    "                            recipe_title = driver.find_element_by_class_name('view2_summary.st3 > h3').text.\\\n",
    "                                replace('\\\\', '').replace('\\/', '').replace('\\:', '').replace('\\?', '').replace('\\\"', '').\\\n",
    "                                replace('\\<', '').replace('\\>', '').replace('\\|', '').replace('\\*', '')\n",
    "\n",
    "                            # 재료, 0, 1로 나뉨\n",
    "                            jaeryo_list = driver.find_elements_by_class_name('ready_ingre3 > ul')\n",
    "\n",
    "                            temp_list = []\n",
    "                            for l in range(len(jaeryo_list)):\n",
    "                                jaeryos = jaeryo_list[l].find_elements_by_tag_name('a')\n",
    "                                for m in range(len(jaeryos)):\n",
    "                                    temp_list.append(jaeryos[m].find_element_by_css_selector('li').text.split('\\n')[0])\n",
    "                            df = df.append(pd.Series(temp_list, name=recipe_title))\n",
    "                            \n",
    "                            df.to_excel('./recipes/data.xlsx')\n",
    "\n",
    "                            n = 0\n",
    "                            while True:\n",
    "                                n += 1\n",
    "                                try:\n",
    "                                    driver.find_element_by_id(f'stepDiv{n}')\n",
    "                                except:\n",
    "                                    break\n",
    "                            print(n)\n",
    "\n",
    "                            data = driver.find_element_by_class_name('ready_ingre3').text\n",
    "                            data += '\\n' + '\\n'\n",
    "                            for o in range(1, n):\n",
    "                                data += '\\n'\n",
    "                                data += driver.find_element_by_id(f'stepDiv{o}').text\n",
    "                                data += '\\n'\n",
    "\n",
    "                            with open(f\"./recipes/{theme_5_title}/{theme_title}/{recipe_title}.txt\", 'w') as f:\n",
    "                                f.write(data)\n",
    "                            soup = BeautifulSoup(driver.page_source, 'html.parser')\n",
    "                            thumb_link = soup.select('.centeredcrop > img')[0].attrs['src']\n",
    "                            urlretrieve(thumb_link, f\"./recipes/{theme_5_title}/{theme_title}/{recipe_title}.jpg\")\n",
    "                    except:\n",
    "                        pass\n",
    "            except:\n",
    "                pass\n",
    "    except:\n",
    "        pass\n",
    "\"\"\""
   ]
  },
  {
   "cell_type": "code",
   "execution_count": null,
   "metadata": {
    "code_folding": []
   },
   "outputs": [],
   "source": [
    "# 엄마, 아기 -> 태교음식, 아이성장발달 다시\n",
    "# 여성, 뷰티 -> 두피모발부터 다시"
   ]
  },
  {
   "cell_type": "code",
   "execution_count": 57,
   "metadata": {
    "ExecuteTime": {
     "end_time": "2020-10-22T02:48:04.650938Z",
     "start_time": "2020-10-22T02:48:00.064756Z"
    }
   },
   "outputs": [],
   "source": [
    "driver = webdriver.Chrome('./chromedriver.exe', options=options)\n",
    "driver.get('https://www.10000recipe.com/theme/list.html?t1=101014')"
   ]
  },
  {
   "cell_type": "code",
   "execution_count": 56,
   "metadata": {
    "ExecuteTime": {
     "end_time": "2020-10-22T02:45:44.042329Z",
     "start_time": "2020-10-22T02:44:19.598686Z"
    }
   },
   "outputs": [
    {
     "name": "stdout",
     "output_type": "stream",
     "text": [
      "7\n",
      "10\n",
      "7\n",
      "7\n",
      "6\n",
      "13\n",
      "7\n",
      "4\n",
      "14\n",
      "10\n",
      "6\n",
      "8\n",
      "7\n",
      "6\n",
      "7\n",
      "5\n"
     ]
    },
    {
     "name": "stderr",
     "output_type": "stream",
     "text": [
      "C:\\ProgramData\\Anaconda3\\envs\\MachineLearning\\lib\\site-packages\\ipykernel_launcher.py:36: DeprecationWarning: The default dtype for empty Series will be 'object' instead of 'float64' in a future version. Specify a dtype explicitly to silence this warning.\n"
     ]
    },
    {
     "name": "stdout",
     "output_type": "stream",
     "text": [
      "1\n",
      "1\n",
      "1\n",
      "5\n",
      "6\n",
      "9\n"
     ]
    }
   ],
   "source": [
    "df = pd.DataFrame()\n",
    "\n",
    "theme_5_title = '건강,질병'\n",
    "theme_title = '치매예방'\n",
    "\n",
    "if not os.path.exists(f\"./recipes/{theme_5_title}/{theme_title}\"):\n",
    "    os.mkdir(f\"./recipes/{theme_5_title}/{theme_title}\")\n",
    "\n",
    "little_page = driver.current_url\n",
    "\n",
    "page = little_page + '&page='\n",
    "try:\n",
    "    for p in range(1, 9):\n",
    "        try:\n",
    "            for k in range(12):\n",
    "                driver.get(page+str(p))\n",
    "                time.sleep(0.5)\n",
    "                recipes = driver.find_elements_by_class_name('common_sp_thumb')\n",
    "                recipes[k].click()\n",
    "                time.sleep(0.5)\n",
    "                driver.find_element_by_css_selector('body').send_keys(Keys.RETURN)\n",
    "                time.sleep(0.05)\n",
    "                # 레시피 제목\n",
    "                recipe_title = driver.find_element_by_class_name('view2_summary.st3 > h3').text.\\\n",
    "                    replace('\\\\', '').replace('\\/', '').replace('\\:', '').replace('\\?', '').replace('\\\"', '').\\\n",
    "                    replace('\\<', '').replace('\\>', '').replace('\\|', '').replace('\\*', '')\n",
    "\n",
    "                # 재료, 0, 1로 나뉨\n",
    "                jaeryo_list = driver.find_elements_by_class_name('ready_ingre3 > ul')\n",
    "\n",
    "                temp_list = []\n",
    "                for l in range(len(jaeryo_list)):\n",
    "                    jaeryos = jaeryo_list[l].find_elements_by_tag_name('a')\n",
    "                    for m in range(len(jaeryos)):\n",
    "                        temp_list.append(jaeryos[m].find_element_by_css_selector('li').text.split('\\n')[0])\n",
    "                df = df.append(pd.Series(temp_list, name=recipe_title))\n",
    "\n",
    "                df.to_excel(f'./recipes/data{theme_title}.xlsx')\n",
    "\n",
    "                n = 0\n",
    "                while True:\n",
    "                    n += 1\n",
    "                    try:\n",
    "                        driver.find_element_by_id(f'stepDiv{n}')\n",
    "                    except:\n",
    "                        break\n",
    "                print(n)\n",
    "\n",
    "                data = driver.find_element_by_class_name('ready_ingre3').text\n",
    "                data += '\\n' + '\\n'\n",
    "                for o in range(1, n):\n",
    "                    data += '\\n'\n",
    "                    data += driver.find_element_by_id(f'stepDiv{o}').text\n",
    "                    data += '\\n'\n",
    "\n",
    "                with open(f\"./recipes/{theme_5_title}/{theme_title}/{recipe_title}.txt\", 'w') as f:\n",
    "                    f.write(data)\n",
    "                soup = BeautifulSoup(driver.page_source, 'html.parser')\n",
    "                thumb_link = soup.select('.centeredcrop > img')[0].attrs['src']\n",
    "                urlretrieve(thumb_link, f\"./recipes/{theme_5_title}/{theme_title}/{recipe_title}.jpg\")\n",
    "        except:\n",
    "            pass\n",
    "except:\n",
    "    pass\n",
    "driver.close()"
   ]
  },
  {
   "cell_type": "code",
   "execution_count": null,
   "metadata": {},
   "outputs": [],
   "source": []
  }
 ],
 "metadata": {
  "kernelspec": {
   "display_name": "Python 3",
   "language": "python",
   "name": "python3"
  },
  "language_info": {
   "codemirror_mode": {
    "name": "ipython",
    "version": 3
   },
   "file_extension": ".py",
   "mimetype": "text/x-python",
   "name": "python",
   "nbconvert_exporter": "python",
   "pygments_lexer": "ipython3",
   "version": "3.7.7"
  }
 },
 "nbformat": 4,
 "nbformat_minor": 4
}
