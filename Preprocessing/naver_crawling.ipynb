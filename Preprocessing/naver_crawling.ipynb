{
 "cells": [
  {
   "cell_type": "code",
   "execution_count": 1,
   "metadata": {
    "ExecuteTime": {
     "end_time": "2020-10-19T06:10:12.530104Z",
     "start_time": "2020-10-19T06:10:11.657308Z"
    }
   },
   "outputs": [],
   "source": [
    "from selenium import webdriver\n",
    "import pandas as pd\n",
    "import numpy as np\n",
    "from selenium.webdriver.common.keys import Keys\n",
    "from selenium.common.exceptions import ElementNotInteractableException, ElementClickInterceptedException, NoSuchElementException\n",
    "import time\n",
    "from bs4 import BeautifulSoup\n",
    "import re\n",
    "from urllib.request import urlopen, urlretrieve\n",
    "import os\n",
    "from urllib.parse import quote_plus"
   ]
  },
  {
   "cell_type": "code",
   "execution_count": 2,
   "metadata": {
    "ExecuteTime": {
     "end_time": "2020-10-19T06:10:12.536081Z",
     "start_time": "2020-10-19T06:10:12.531094Z"
    }
   },
   "outputs": [],
   "source": [
    "#셀레니움 크롬 옵션\n",
    "options = webdriver.ChromeOptions()\n",
    "# options.add_argument('headless')      # 브라우저를 열 수 있음 - headless는 안연다는 것.\n",
    "options.add_argument('--no-sandbox')\n",
    "options.add_argument('--disable-dev-shm-usage')\n",
    "options.add_argument('disable-gpu')\n",
    "options.add_argument('lang=ko_KR')\n",
    "options.add_argument(\"--mute-audio\")"
   ]
  },
  {
   "cell_type": "code",
   "execution_count": 3,
   "metadata": {
    "ExecuteTime": {
     "end_time": "2020-10-19T06:10:16.548785Z",
     "start_time": "2020-10-19T06:10:12.538077Z"
    }
   },
   "outputs": [],
   "source": [
    "driver = webdriver.Chrome('./chromedriver.exe', options=options)"
   ]
  },
  {
   "cell_type": "code",
   "execution_count": 16,
   "metadata": {
    "ExecuteTime": {
     "end_time": "2020-10-19T06:59:36.871683Z",
     "start_time": "2020-10-19T06:59:36.619920Z"
    }
   },
   "outputs": [],
   "source": [
    "검색어 = '토마토'\n",
    "search = quote_plus(검색어)\n",
    "driver.get(f'https://search.naver.com/search.naver?where=image&sm=tab_jum&query={search}')"
   ]
  },
  {
   "cell_type": "code",
   "execution_count": 17,
   "metadata": {
    "ExecuteTime": {
     "end_time": "2020-10-19T06:59:53.494977Z",
     "start_time": "2020-10-19T06:59:37.094537Z"
    }
   },
   "outputs": [
    {
     "name": "stdout",
     "output_type": "stream",
     "text": [
      "1000\n",
      "1000\n",
      "1000\n"
     ]
    }
   ],
   "source": [
    "body = driver.find_element_by_tag_name('body')\n",
    "stop_count=0\n",
    "while True:\n",
    "    if stop_count == 4:\n",
    "        break\n",
    "    last_len = len(driver.find_elements_by_class_name('img_area._item'))\n",
    "    body.send_keys(Keys.PAGE_DOWN)\n",
    "    body.send_keys(Keys.PAGE_DOWN)\n",
    "    body.send_keys(Keys.PAGE_DOWN)\n",
    "    body.send_keys(Keys.PAGE_DOWN)\n",
    "    body.send_keys(Keys.PAGE_DOWN)\n",
    "    body.send_keys(Keys.PAGE_DOWN)\n",
    "    body.send_keys(Keys.PAGE_DOWN)\n",
    "    if stop_count == 0:\n",
    "        time.sleep(0.5)\n",
    "    elif stop_count == 1:\n",
    "        time.sleep(1)\n",
    "        print(new_len)\n",
    "    elif stop_count >= 2:\n",
    "        time.sleep(1.5)\n",
    "        print(new_len)\n",
    "    new_len = len(driver.find_elements_by_class_name('img_area._item'))\n",
    "    if last_len == new_len :\n",
    "        stop_count += 1\n",
    "    elif last_len != new_len :\n",
    "        stop_count = 0\n",
    "    try:\n",
    "        driver.find_element_by_class_name('more_img').click()\n",
    "    except:\n",
    "        pass"
   ]
  },
  {
   "cell_type": "code",
   "execution_count": 18,
   "metadata": {
    "ExecuteTime": {
     "end_time": "2020-10-19T07:00:26.892268Z",
     "start_time": "2020-10-19T06:59:53.496978Z"
    }
   },
   "outputs": [],
   "source": [
    "soup = BeautifulSoup(driver.page_source, 'html.parser')\n",
    "img = soup.find_all(class_='_img')\n",
    "\n",
    "if not os.path.exists(f'./{검색어}/'):\n",
    "    os.mkdir(f'./{검색어}/')\n",
    "\n",
    "n = 0\n",
    "for i in img:\n",
    "    link = i.get('src')\n",
    "    urlretrieve(link, f\"./{검색어}/{검색어}{n}.jpg\")\n",
    "    n+=1"
   ]
  },
  {
   "cell_type": "code",
   "execution_count": null,
   "metadata": {},
   "outputs": [],
   "source": []
  }
 ],
 "metadata": {
  "kernelspec": {
   "display_name": "Python 3",
   "language": "python",
   "name": "python3"
  },
  "language_info": {
   "codemirror_mode": {
    "name": "ipython",
    "version": 3
   },
   "file_extension": ".py",
   "mimetype": "text/x-python",
   "name": "python",
   "nbconvert_exporter": "python",
   "pygments_lexer": "ipython3",
   "version": "3.7.7"
  }
 },
 "nbformat": 4,
 "nbformat_minor": 4
}
